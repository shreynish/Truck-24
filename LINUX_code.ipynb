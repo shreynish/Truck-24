{
 "cells": [
  {
   "cell_type": "code",
   "execution_count": 1,
   "metadata": {},
   "outputs": [],
   "source": [
    "import pandas as pd"
   ]
  },
  {
   "cell_type": "code",
   "execution_count": 2,
   "metadata": {},
   "outputs": [],
   "source": [
    "dataset=pd.read_csv('project.csv')"
   ]
  },
  {
   "cell_type": "code",
   "execution_count": 3,
   "metadata": {},
   "outputs": [],
   "source": [
    "x=dataset.iloc[:,0:4]\n",
    "y=dataset.iloc[:,-1]"
   ]
  },
  {
   "cell_type": "code",
   "execution_count": 4,
   "metadata": {},
   "outputs": [],
   "source": [
    "from sklearn.linear_model import LinearRegression\n",
    "model = LinearRegression()"
   ]
  },
  {
   "cell_type": "code",
   "execution_count": 5,
   "metadata": {},
   "outputs": [],
   "source": [
    "from sklearn.model_selection import train_test_split\n",
    "X_train,X_test,Y_train,Y_test=train_test_split(x,y,test_size=1/3,random_state=20)"
   ]
  },
  {
   "cell_type": "code",
   "execution_count": 6,
   "metadata": {},
   "outputs": [
    {
     "data": {
      "text/plain": [
       "LinearRegression(copy_X=True, fit_intercept=True, n_jobs=None, normalize=False)"
      ]
     },
     "execution_count": 6,
     "metadata": {},
     "output_type": "execute_result"
    }
   ],
   "source": [
    "model.fit(X_train,Y_train)"
   ]
  },
  {
   "cell_type": "code",
   "execution_count": 7,
   "metadata": {},
   "outputs": [
    {
     "data": {
      "text/plain": [
       "array([ 5461.00778847,  7585.91863008,  5115.74093769,  5577.18348868,\n",
       "        7202.60591201,  6165.25946525,  8649.85556508,  5247.91105485,\n",
       "        7645.20005163,  6355.86892189,  6265.67909189,  7023.97050902,\n",
       "        6894.97641628,  4534.65198709,  5129.34595494,  7362.82902   ,\n",
       "        6435.98047588,  5079.6207496 ,  5597.57750476,  5393.36303086,\n",
       "        6480.43468297,  4875.40627571,  7609.95096788,  6246.8039557 ,\n",
       "        6261.85709117,  5553.58613885,  5035.62938369,  8367.86289503,\n",
       "        6480.43468297,  4581.00343565,  5621.7236392 ,  5355.2605372 ,\n",
       "       10222.02374439,  3503.54517002,  4889.01129296,  6524.42604887,\n",
       "        3658.96158477,  5541.6120852 ,  7505.80707609,  4774.98664907,\n",
       "        5284.29806467,  5524.63272665,  7228.18498291,  4621.05921264,\n",
       "        7092.45910225,  6749.17338802,  5319.95541158,  7042.38280403,\n",
       "        7042.38280403,  4614.76354109,  6326.91550969,  7585.91863008,\n",
       "        6309.92402356,  5769.45121826,  7666.03018407, 10111.03481192,\n",
       "        8223.74691287,  7214.22866432,  6710.22822776,  7275.11344536])"
      ]
     },
     "execution_count": 7,
     "metadata": {},
     "output_type": "execute_result"
    }
   ],
   "source": [
    "model.predict(X_test)"
   ]
  },
  {
   "cell_type": "code",
   "execution_count": 8,
   "metadata": {},
   "outputs": [
    {
     "data": {
      "text/plain": [
       "array([3498.73847679])"
      ]
     },
     "execution_count": 8,
     "metadata": {},
     "output_type": "execute_result"
    }
   ],
   "source": [
    "model.predict([[100,1000,1200,800]])"
   ]
  },
  {
   "cell_type": "code",
   "execution_count": null,
   "metadata": {},
   "outputs": [],
   "source": []
  }
 ],
 "metadata": {
  "kernelspec": {
   "display_name": "Python 3",
   "language": "python",
   "name": "python3"
  },
  "language_info": {
   "codemirror_mode": {
    "name": "ipython",
    "version": 3
   },
   "file_extension": ".py",
   "mimetype": "text/x-python",
   "name": "python",
   "nbconvert_exporter": "python",
   "pygments_lexer": "ipython3",
   "version": "3.7.4"
  }
 },
 "nbformat": 4,
 "nbformat_minor": 2
}
